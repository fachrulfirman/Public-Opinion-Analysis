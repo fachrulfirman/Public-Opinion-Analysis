{
 "cells": [
  {
   "cell_type": "markdown",
   "metadata": {},
   "source": [
    "Business Understanding:\n",
    "\n",
    "Topik yang dipilih pada proyek akhir ini adalah pilpers 2024. Alasan dipilihnya topik ini dikarenakan pelaksanaan pilpres yang akan berlangsung 2 tahun mendatang sudah menimbulkan banyak pergerakan dari berbagai tokoh maupun partai politik yang kemudian memicu masyarakat untuk mengeluarkan opininya. Hal yang nanti akan dicari adalah kata kunci yang sering dibicarakan serta tentunya sentimen masyarakat saat ini terhadap berbagai wacana terkait pilpres 2024 dengan tujuan untuk mengetahui optimisme masyarakat akan pelaksanaan pilpres 2024."
   ]
  },
  {
   "cell_type": "code",
   "execution_count": 1,
   "metadata": {},
   "outputs": [
    {
     "name": "stderr",
     "output_type": "stream",
     "text": [
      "[nltk_data] Downloading package punkt to\n",
      "[nltk_data]     C:\\Users\\Rayendra\\AppData\\Roaming\\nltk_data...\n",
      "[nltk_data]   Package punkt is already up-to-date!\n",
      "[nltk_data] Downloading package stopwords to\n",
      "[nltk_data]     C:\\Users\\Rayendra\\AppData\\Roaming\\nltk_data...\n",
      "[nltk_data]   Package stopwords is already up-to-date!\n"
     ]
    },
    {
     "data": {
      "text/plain": [
       "True"
      ]
     },
     "execution_count": 1,
     "metadata": {},
     "output_type": "execute_result"
    }
   ],
   "source": [
    "# Library dan package yang dipakai\n",
    "import json, tweepy, datetime, pandas as pd, re, string, nltk, numpy as np, matplotlib.pyplot as plt, seaborn as sns\n",
    "from urllib.request import urlopen\n",
    "from bs4 import BeautifulSoup\n",
    "from nltk.corpus import stopwords\n",
    "from nltk.tokenize import word_tokenize\n",
    "from nltk.probability import FreqDist\n",
    "from sklearn.feature_extraction.text import TfidfVectorizer\n",
    "from sklearn.naive_bayes import GaussianNB\n",
    "from sklearn.model_selection import train_test_split\n",
    "from sklearn.metrics import confusion_matrix, classification_report, accuracy_score\n",
    "nltk.download('punkt')\n",
    "nltk.download('stopwords')"
   ]
  },
  {
   "cell_type": "markdown",
   "metadata": {},
   "source": [
    "Data Collection:"
   ]
  },
  {
   "cell_type": "code",
   "execution_count": 2,
   "metadata": {},
   "outputs": [],
   "source": [
    "# Akses ke API twitter\n",
    "with open('token.json')as f:\n",
    "    tokens = json.load(f)\n",
    "\n",
    "api_key = tokens['api_key']\n",
    "api_key_secret = tokens['api_key_secret']\n",
    "bearer_token = tokens['bearer_token']\n",
    "access_token = tokens['access_token']\n",
    "access_token_secret = tokens['access_token_secret']\n",
    "\n",
    "access = tweepy.Client(bearer_token=bearer_token, wait_on_rate_limit=True)"
   ]
  },
  {
   "cell_type": "code",
   "execution_count": 3,
   "metadata": {},
   "outputs": [
    {
     "data": {
      "text/html": [
       "<div>\n",
       "<style scoped>\n",
       "    .dataframe tbody tr th:only-of-type {\n",
       "        vertical-align: middle;\n",
       "    }\n",
       "\n",
       "    .dataframe tbody tr th {\n",
       "        vertical-align: top;\n",
       "    }\n",
       "\n",
       "    .dataframe thead th {\n",
       "        text-align: right;\n",
       "    }\n",
       "</style>\n",
       "<table border=\"1\" class=\"dataframe\">\n",
       "  <thead>\n",
       "    <tr style=\"text-align: right;\">\n",
       "      <th></th>\n",
       "      <th>date</th>\n",
       "      <th>tweet</th>\n",
       "    </tr>\n",
       "  </thead>\n",
       "  <tbody>\n",
       "    <tr>\n",
       "      <th>0</th>\n",
       "      <td>06-26-2022</td>\n",
       "      <td>Elite NU meyakini Puan Maharani menjadi kandid...</td>\n",
       "    </tr>\n",
       "    <tr>\n",
       "      <th>1</th>\n",
       "      <td>06-26-2022</td>\n",
       "      <td>Wanti-wanti Fahri Hamzah 8 Bulan Jeda Menuju P...</td>\n",
       "    </tr>\n",
       "    <tr>\n",
       "      <th>2</th>\n",
       "      <td>06-26-2022</td>\n",
       "      <td>Rempuni Cirebon melakukan deklarasi mendukung ...</td>\n",
       "    </tr>\n",
       "    <tr>\n",
       "      <th>3</th>\n",
       "      <td>06-26-2022</td>\n",
       "      <td>Fahri Hamzah Ungkap Kekhawatiran Soal Jeda Has...</td>\n",
       "    </tr>\n",
       "    <tr>\n",
       "      <th>4</th>\n",
       "      <td>06-26-2022</td>\n",
       "      <td>Cocok sih sama² ambisi gede 😁😁\\nDan memenuhi s...</td>\n",
       "    </tr>\n",
       "    <tr>\n",
       "      <th>...</th>\n",
       "      <td>...</td>\n",
       "      <td>...</td>\n",
       "    </tr>\n",
       "    <tr>\n",
       "      <th>1734</th>\n",
       "      <td>06-23-2022</td>\n",
       "      <td>Bertemu AHY, NasDem: Kami Sadar Harus Bergande...</td>\n",
       "    </tr>\n",
       "    <tr>\n",
       "      <th>1735</th>\n",
       "      <td>06-23-2022</td>\n",
       "      <td>@RenaldiCicko @ganjarpranowo @pungky1981 @fasy...</td>\n",
       "    </tr>\n",
       "    <tr>\n",
       "      <th>1736</th>\n",
       "      <td>06-23-2022</td>\n",
       "      <td>Pilih Istilah Kerja Sama di Pilpres 2024, Sekj...</td>\n",
       "    </tr>\n",
       "    <tr>\n",
       "      <th>1737</th>\n",
       "      <td>06-23-2022</td>\n",
       "      <td>PKS Kunjungi Nasdem, Pengamat Politik Sebut Na...</td>\n",
       "    </tr>\n",
       "    <tr>\n",
       "      <th>1738</th>\n",
       "      <td>06-23-2022</td>\n",
       "      <td>\"Saya Yakin Cak Imin tidak akan mampu buat par...</td>\n",
       "    </tr>\n",
       "  </tbody>\n",
       "</table>\n",
       "<p>1739 rows × 2 columns</p>\n",
       "</div>"
      ],
      "text/plain": [
       "            date                                              tweet\n",
       "0     06-26-2022  Elite NU meyakini Puan Maharani menjadi kandid...\n",
       "1     06-26-2022  Wanti-wanti Fahri Hamzah 8 Bulan Jeda Menuju P...\n",
       "2     06-26-2022  Rempuni Cirebon melakukan deklarasi mendukung ...\n",
       "3     06-26-2022  Fahri Hamzah Ungkap Kekhawatiran Soal Jeda Has...\n",
       "4     06-26-2022  Cocok sih sama² ambisi gede 😁😁\\nDan memenuhi s...\n",
       "...          ...                                                ...\n",
       "1734  06-23-2022  Bertemu AHY, NasDem: Kami Sadar Harus Bergande...\n",
       "1735  06-23-2022  @RenaldiCicko @ganjarpranowo @pungky1981 @fasy...\n",
       "1736  06-23-2022  Pilih Istilah Kerja Sama di Pilpres 2024, Sekj...\n",
       "1737  06-23-2022  PKS Kunjungi Nasdem, Pengamat Politik Sebut Na...\n",
       "1738  06-23-2022  \"Saya Yakin Cak Imin tidak akan mampu buat par...\n",
       "\n",
       "[1739 rows x 2 columns]"
      ]
     },
     "execution_count": 3,
     "metadata": {},
     "output_type": "execute_result"
    }
   ],
   "source": [
    "# Mengambil tweet terkait topik pilpres 2024 dari twitter dalam 3 hari terakhir\n",
    "finish= datetime.datetime.now() - datetime.timedelta(hours=8)\n",
    "begin = finish - datetime.timedelta(3)\n",
    "tweets = tweepy.Paginator(access.search_recent_tweets, query='pilpres 2024 -is:retweet lang:id', \n",
    "                          tweet_fields=['created_at'], start_time=begin, end_time=finish).flatten(limit=5000)\n",
    "tweets = [[tweet.created_at, tweet.text.strip()] for tweet in tweets]\n",
    "df_tweets = pd.DataFrame(tweets, columns=['date', 'tweet'])\n",
    "df_tweets['date'] = df_tweets['date'].dt.strftime('%m-%d-%Y')\n",
    "df_tweets"
   ]
  },
  {
   "cell_type": "code",
   "execution_count": 4,
   "metadata": {},
   "outputs": [
    {
     "data": {
      "text/html": [
       "<div>\n",
       "<style scoped>\n",
       "    .dataframe tbody tr th:only-of-type {\n",
       "        vertical-align: middle;\n",
       "    }\n",
       "\n",
       "    .dataframe tbody tr th {\n",
       "        vertical-align: top;\n",
       "    }\n",
       "\n",
       "    .dataframe thead th {\n",
       "        text-align: right;\n",
       "    }\n",
       "</style>\n",
       "<table border=\"1\" class=\"dataframe\">\n",
       "  <thead>\n",
       "    <tr style=\"text-align: right;\">\n",
       "      <th></th>\n",
       "      <th>news</th>\n",
       "    </tr>\n",
       "  </thead>\n",
       "  <tbody>\n",
       "    <tr>\n",
       "      <th>0</th>\n",
       "      <td>JK Prediksi Empat Poros di Pilpres 2024</td>\n",
       "    </tr>\n",
       "    <tr>\n",
       "      <th>1</th>\n",
       "      <td>M. Qodari Sebut 3 Nama Ini Berpeluang Besar Mu...</td>\n",
       "    </tr>\n",
       "    <tr>\n",
       "      <th>2</th>\n",
       "      <td>Politisi Partai Perindo Prediksi 3 Pasangan Ca...</td>\n",
       "    </tr>\n",
       "    <tr>\n",
       "      <th>3</th>\n",
       "      <td>Pengamat Bicara Peluang Duet Prabowo - AHY di ...</td>\n",
       "    </tr>\n",
       "    <tr>\n",
       "      <th>4</th>\n",
       "      <td>Peta Koalisi Terbaru: Bisa Ada 4 Capres di Pil...</td>\n",
       "    </tr>\n",
       "    <tr>\n",
       "      <th>...</th>\n",
       "      <td>...</td>\n",
       "    </tr>\n",
       "    <tr>\n",
       "      <th>94</th>\n",
       "      <td>Siapa Pendamping Anies Baswedan 2024? - Kompas...</td>\n",
       "    </tr>\n",
       "    <tr>\n",
       "      <th>95</th>\n",
       "      <td>Pengamat Politik: Ada Rivalitas Diam-diam Mega...</td>\n",
       "    </tr>\n",
       "    <tr>\n",
       "      <th>96</th>\n",
       "      <td>Golkar Yakin Airlangga Menang Pilpres, Asalkan...</td>\n",
       "    </tr>\n",
       "    <tr>\n",
       "      <th>97</th>\n",
       "      <td>Gerakan Nelayan Probolinggo Deklarasi Dukung P...</td>\n",
       "    </tr>\n",
       "    <tr>\n",
       "      <th>98</th>\n",
       "      <td>KIB Tolak Usung Prabowo dan Ganjar, Prioritask...</td>\n",
       "    </tr>\n",
       "  </tbody>\n",
       "</table>\n",
       "<p>99 rows × 1 columns</p>\n",
       "</div>"
      ],
      "text/plain": [
       "                                                 news\n",
       "0             JK Prediksi Empat Poros di Pilpres 2024\n",
       "1   M. Qodari Sebut 3 Nama Ini Berpeluang Besar Mu...\n",
       "2   Politisi Partai Perindo Prediksi 3 Pasangan Ca...\n",
       "3   Pengamat Bicara Peluang Duet Prabowo - AHY di ...\n",
       "4   Peta Koalisi Terbaru: Bisa Ada 4 Capres di Pil...\n",
       "..                                                ...\n",
       "94  Siapa Pendamping Anies Baswedan 2024? - Kompas...\n",
       "95  Pengamat Politik: Ada Rivalitas Diam-diam Mega...\n",
       "96  Golkar Yakin Airlangga Menang Pilpres, Asalkan...\n",
       "97  Gerakan Nelayan Probolinggo Deklarasi Dukung P...\n",
       "98  KIB Tolak Usung Prabowo dan Ganjar, Prioritask...\n",
       "\n",
       "[99 rows x 1 columns]"
      ]
     },
     "execution_count": 4,
     "metadata": {},
     "output_type": "execute_result"
    }
   ],
   "source": [
    "# Mengambil berita terkait topik pilpres 2024 dari google news dalam 3 hari terakhir\n",
    "html = urlopen('https://news.google.com/search?q=pilpres%202024%20when%3A3d&hl=id')\n",
    "data = BeautifulSoup(html, 'html.parser')\n",
    "news = data.findAll('a', {'class':'DY5T1d RZIKme'})\n",
    "df_news = pd.DataFrame(news, columns=['news'])\n",
    "df_news"
   ]
  },
  {
   "cell_type": "code",
   "execution_count": 5,
   "metadata": {},
   "outputs": [
    {
     "data": {
      "text/html": [
       "<div>\n",
       "<style scoped>\n",
       "    .dataframe tbody tr th:only-of-type {\n",
       "        vertical-align: middle;\n",
       "    }\n",
       "\n",
       "    .dataframe tbody tr th {\n",
       "        vertical-align: top;\n",
       "    }\n",
       "\n",
       "    .dataframe thead th {\n",
       "        text-align: right;\n",
       "    }\n",
       "</style>\n",
       "<table border=\"1\" class=\"dataframe\">\n",
       "  <thead>\n",
       "    <tr style=\"text-align: right;\">\n",
       "      <th></th>\n",
       "      <th>teks</th>\n",
       "    </tr>\n",
       "  </thead>\n",
       "  <tbody>\n",
       "    <tr>\n",
       "      <th>0</th>\n",
       "      <td>Elite NU meyakini Puan Maharani menjadi kandid...</td>\n",
       "    </tr>\n",
       "    <tr>\n",
       "      <th>1</th>\n",
       "      <td>Wanti-wanti Fahri Hamzah 8 Bulan Jeda Menuju P...</td>\n",
       "    </tr>\n",
       "    <tr>\n",
       "      <th>2</th>\n",
       "      <td>Rempuni Cirebon melakukan deklarasi mendukung ...</td>\n",
       "    </tr>\n",
       "    <tr>\n",
       "      <th>3</th>\n",
       "      <td>Fahri Hamzah Ungkap Kekhawatiran Soal Jeda Has...</td>\n",
       "    </tr>\n",
       "    <tr>\n",
       "      <th>4</th>\n",
       "      <td>Cocok sih sama² ambisi gede 😁😁\\nDan memenuhi s...</td>\n",
       "    </tr>\n",
       "    <tr>\n",
       "      <th>...</th>\n",
       "      <td>...</td>\n",
       "    </tr>\n",
       "    <tr>\n",
       "      <th>1833</th>\n",
       "      <td>Siapa Pendamping Anies Baswedan 2024? - Kompas...</td>\n",
       "    </tr>\n",
       "    <tr>\n",
       "      <th>1834</th>\n",
       "      <td>Pengamat Politik: Ada Rivalitas Diam-diam Mega...</td>\n",
       "    </tr>\n",
       "    <tr>\n",
       "      <th>1835</th>\n",
       "      <td>Golkar Yakin Airlangga Menang Pilpres, Asalkan...</td>\n",
       "    </tr>\n",
       "    <tr>\n",
       "      <th>1836</th>\n",
       "      <td>Gerakan Nelayan Probolinggo Deklarasi Dukung P...</td>\n",
       "    </tr>\n",
       "    <tr>\n",
       "      <th>1837</th>\n",
       "      <td>KIB Tolak Usung Prabowo dan Ganjar, Prioritask...</td>\n",
       "    </tr>\n",
       "  </tbody>\n",
       "</table>\n",
       "<p>1838 rows × 1 columns</p>\n",
       "</div>"
      ],
      "text/plain": [
       "                                                   teks\n",
       "0     Elite NU meyakini Puan Maharani menjadi kandid...\n",
       "1     Wanti-wanti Fahri Hamzah 8 Bulan Jeda Menuju P...\n",
       "2     Rempuni Cirebon melakukan deklarasi mendukung ...\n",
       "3     Fahri Hamzah Ungkap Kekhawatiran Soal Jeda Has...\n",
       "4     Cocok sih sama² ambisi gede 😁😁\\nDan memenuhi s...\n",
       "...                                                 ...\n",
       "1833  Siapa Pendamping Anies Baswedan 2024? - Kompas...\n",
       "1834  Pengamat Politik: Ada Rivalitas Diam-diam Mega...\n",
       "1835  Golkar Yakin Airlangga Menang Pilpres, Asalkan...\n",
       "1836  Gerakan Nelayan Probolinggo Deklarasi Dukung P...\n",
       "1837  KIB Tolak Usung Prabowo dan Ganjar, Prioritask...\n",
       "\n",
       "[1838 rows x 1 columns]"
      ]
     },
     "execution_count": 5,
     "metadata": {},
     "output_type": "execute_result"
    }
   ],
   "source": [
    "# Menggabungkan dataframe twitter dan dataframe google news\n",
    "df_tweets.drop('date', inplace=True, axis=1)\n",
    "df_tweets.rename(columns={'tweet':'teks'}, inplace=True)\n",
    "df_news.rename(columns={'news':'teks'}, inplace=True)\n",
    "df_pilpres = pd.concat([df_tweets, df_news], ignore_index=True)\n",
    "df_pilpres"
   ]
  },
  {
   "cell_type": "markdown",
   "metadata": {},
   "source": [
    "Data Analisis:"
   ]
  },
  {
   "cell_type": "code",
   "execution_count": 6,
   "metadata": {},
   "outputs": [
    {
     "name": "stdout",
     "output_type": "stream",
     "text": [
      "<class 'pandas.core.frame.DataFrame'>\n",
      "RangeIndex: 1838 entries, 0 to 1837\n",
      "Data columns (total 1 columns):\n",
      " #   Column  Non-Null Count  Dtype \n",
      "---  ------  --------------  ----- \n",
      " 0   teks    1838 non-null   object\n",
      "dtypes: object(1)\n",
      "memory usage: 14.5+ KB\n"
     ]
    }
   ],
   "source": [
    "# Melihat ringkasan singkat dataframe pilpres\n",
    "df_pilpres.info()"
   ]
  },
  {
   "cell_type": "code",
   "execution_count": 7,
   "metadata": {},
   "outputs": [
    {
     "data": {
      "text/html": [
       "<div>\n",
       "<style scoped>\n",
       "    .dataframe tbody tr th:only-of-type {\n",
       "        vertical-align: middle;\n",
       "    }\n",
       "\n",
       "    .dataframe tbody tr th {\n",
       "        vertical-align: top;\n",
       "    }\n",
       "\n",
       "    .dataframe thead th {\n",
       "        text-align: right;\n",
       "    }\n",
       "</style>\n",
       "<table border=\"1\" class=\"dataframe\">\n",
       "  <thead>\n",
       "    <tr style=\"text-align: right;\">\n",
       "      <th></th>\n",
       "      <th>teks</th>\n",
       "    </tr>\n",
       "  </thead>\n",
       "  <tbody>\n",
       "    <tr>\n",
       "      <th>count</th>\n",
       "      <td>1838</td>\n",
       "    </tr>\n",
       "    <tr>\n",
       "      <th>unique</th>\n",
       "      <td>1781</td>\n",
       "    </tr>\n",
       "    <tr>\n",
       "      <th>top</th>\n",
       "      <td>pernah ktmu bapak ini thn 2019 wkt di depok,, ...</td>\n",
       "    </tr>\n",
       "    <tr>\n",
       "      <th>freq</th>\n",
       "      <td>5</td>\n",
       "    </tr>\n",
       "  </tbody>\n",
       "</table>\n",
       "</div>"
      ],
      "text/plain": [
       "                                                     teks\n",
       "count                                                1838\n",
       "unique                                               1781\n",
       "top     pernah ktmu bapak ini thn 2019 wkt di depok,, ...\n",
       "freq                                                    5"
      ]
     },
     "execution_count": 7,
     "metadata": {},
     "output_type": "execute_result"
    }
   ],
   "source": [
    "# Melihat hasil statistik deskriptif dataframe pilpres\n",
    "df_pilpres.describe()"
   ]
  },
  {
   "cell_type": "code",
   "execution_count": 8,
   "metadata": {},
   "outputs": [
    {
     "data": {
      "text/html": [
       "<div>\n",
       "<style scoped>\n",
       "    .dataframe tbody tr th:only-of-type {\n",
       "        vertical-align: middle;\n",
       "    }\n",
       "\n",
       "    .dataframe tbody tr th {\n",
       "        vertical-align: top;\n",
       "    }\n",
       "\n",
       "    .dataframe thead th {\n",
       "        text-align: right;\n",
       "    }\n",
       "</style>\n",
       "<table border=\"1\" class=\"dataframe\">\n",
       "  <thead>\n",
       "    <tr style=\"text-align: right;\">\n",
       "      <th></th>\n",
       "      <th>Jumlah Karakter</th>\n",
       "    </tr>\n",
       "  </thead>\n",
       "  <tbody>\n",
       "    <tr>\n",
       "      <th>max</th>\n",
       "      <td>856.000000</td>\n",
       "    </tr>\n",
       "    <tr>\n",
       "      <th>min</th>\n",
       "      <td>24.000000</td>\n",
       "    </tr>\n",
       "    <tr>\n",
       "      <th>mean</th>\n",
       "      <td>156.287813</td>\n",
       "    </tr>\n",
       "  </tbody>\n",
       "</table>\n",
       "</div>"
      ],
      "text/plain": [
       "      Jumlah Karakter\n",
       "max        856.000000\n",
       "min         24.000000\n",
       "mean       156.287813"
      ]
     },
     "execution_count": 8,
     "metadata": {},
     "output_type": "execute_result"
    }
   ],
   "source": [
    "# Melihat jumlah karakter yang ada dalam teks dataframe pilpres \n",
    "jumlah_karakter = df_pilpres['teks'].str.len()\n",
    "jumlah_karakter = jumlah_karakter.rename_axis('Indeks Teks').to_frame('Jumlah Karakter')\n",
    "jumlah_karakter.describe().loc[['max', 'min', 'mean']]"
   ]
  },
  {
   "cell_type": "code",
   "execution_count": 9,
   "metadata": {},
   "outputs": [
    {
     "data": {
      "text/html": [
       "<div>\n",
       "<style scoped>\n",
       "    .dataframe tbody tr th:only-of-type {\n",
       "        vertical-align: middle;\n",
       "    }\n",
       "\n",
       "    .dataframe tbody tr th {\n",
       "        vertical-align: top;\n",
       "    }\n",
       "\n",
       "    .dataframe thead th {\n",
       "        text-align: right;\n",
       "    }\n",
       "</style>\n",
       "<table border=\"1\" class=\"dataframe\">\n",
       "  <thead>\n",
       "    <tr style=\"text-align: right;\">\n",
       "      <th></th>\n",
       "      <th>Jumlah Kata</th>\n",
       "    </tr>\n",
       "  </thead>\n",
       "  <tbody>\n",
       "    <tr>\n",
       "      <th>max</th>\n",
       "      <td>85.000000</td>\n",
       "    </tr>\n",
       "    <tr>\n",
       "      <th>min</th>\n",
       "      <td>3.000000</td>\n",
       "    </tr>\n",
       "    <tr>\n",
       "      <th>mean</th>\n",
       "      <td>19.915669</td>\n",
       "    </tr>\n",
       "  </tbody>\n",
       "</table>\n",
       "</div>"
      ],
      "text/plain": [
       "      Jumlah Kata\n",
       "max     85.000000\n",
       "min      3.000000\n",
       "mean    19.915669"
      ]
     },
     "execution_count": 9,
     "metadata": {},
     "output_type": "execute_result"
    }
   ],
   "source": [
    "# Melihat jumlah kata yang ada dalam teks dataframe pilpres\n",
    "jumlah_kata = df_pilpres['teks'].str.split().map(lambda x: len(x))\n",
    "jumlah_kata = jumlah_kata.rename_axis('Indeks Teks').to_frame('Jumlah Kata')\n",
    "jumlah_kata.describe().loc[['max', 'min', 'mean']]"
   ]
  },
  {
   "cell_type": "markdown",
   "metadata": {},
   "source": [
    "Data Preprocessing:"
   ]
  },
  {
   "cell_type": "code",
   "execution_count": 10,
   "metadata": {},
   "outputs": [
    {
     "data": {
      "text/html": [
       "<div>\n",
       "<style scoped>\n",
       "    .dataframe tbody tr th:only-of-type {\n",
       "        vertical-align: middle;\n",
       "    }\n",
       "\n",
       "    .dataframe tbody tr th {\n",
       "        vertical-align: top;\n",
       "    }\n",
       "\n",
       "    .dataframe thead th {\n",
       "        text-align: right;\n",
       "    }\n",
       "</style>\n",
       "<table border=\"1\" class=\"dataframe\">\n",
       "  <thead>\n",
       "    <tr style=\"text-align: right;\">\n",
       "      <th></th>\n",
       "      <th>teks</th>\n",
       "    </tr>\n",
       "  </thead>\n",
       "  <tbody>\n",
       "    <tr>\n",
       "      <th>0</th>\n",
       "      <td>Elite NU meyakini Puan Maharani menjadi kandid...</td>\n",
       "    </tr>\n",
       "    <tr>\n",
       "      <th>1</th>\n",
       "      <td>Wanti-wanti Fahri Hamzah 8 Bulan Jeda Menuju P...</td>\n",
       "    </tr>\n",
       "    <tr>\n",
       "      <th>2</th>\n",
       "      <td>Rempuni Cirebon melakukan deklarasi mendukung ...</td>\n",
       "    </tr>\n",
       "    <tr>\n",
       "      <th>3</th>\n",
       "      <td>Fahri Hamzah Ungkap Kekhawatiran Soal Jeda Has...</td>\n",
       "    </tr>\n",
       "    <tr>\n",
       "      <th>4</th>\n",
       "      <td>Cocok sih sama² ambisi gede 😁😁\\nDan memenuhi s...</td>\n",
       "    </tr>\n",
       "    <tr>\n",
       "      <th>...</th>\n",
       "      <td>...</td>\n",
       "    </tr>\n",
       "    <tr>\n",
       "      <th>1833</th>\n",
       "      <td>Siapa Pendamping Anies Baswedan 2024? - Kompas...</td>\n",
       "    </tr>\n",
       "    <tr>\n",
       "      <th>1834</th>\n",
       "      <td>Pengamat Politik: Ada Rivalitas Diam-diam Mega...</td>\n",
       "    </tr>\n",
       "    <tr>\n",
       "      <th>1835</th>\n",
       "      <td>Golkar Yakin Airlangga Menang Pilpres, Asalkan...</td>\n",
       "    </tr>\n",
       "    <tr>\n",
       "      <th>1836</th>\n",
       "      <td>Gerakan Nelayan Probolinggo Deklarasi Dukung P...</td>\n",
       "    </tr>\n",
       "    <tr>\n",
       "      <th>1837</th>\n",
       "      <td>KIB Tolak Usung Prabowo dan Ganjar, Prioritask...</td>\n",
       "    </tr>\n",
       "  </tbody>\n",
       "</table>\n",
       "<p>1781 rows × 1 columns</p>\n",
       "</div>"
      ],
      "text/plain": [
       "                                                   teks\n",
       "0     Elite NU meyakini Puan Maharani menjadi kandid...\n",
       "1     Wanti-wanti Fahri Hamzah 8 Bulan Jeda Menuju P...\n",
       "2     Rempuni Cirebon melakukan deklarasi mendukung ...\n",
       "3     Fahri Hamzah Ungkap Kekhawatiran Soal Jeda Has...\n",
       "4     Cocok sih sama² ambisi gede 😁😁\\nDan memenuhi s...\n",
       "...                                                 ...\n",
       "1833  Siapa Pendamping Anies Baswedan 2024? - Kompas...\n",
       "1834  Pengamat Politik: Ada Rivalitas Diam-diam Mega...\n",
       "1835  Golkar Yakin Airlangga Menang Pilpres, Asalkan...\n",
       "1836  Gerakan Nelayan Probolinggo Deklarasi Dukung P...\n",
       "1837  KIB Tolak Usung Prabowo dan Ganjar, Prioritask...\n",
       "\n",
       "[1781 rows x 1 columns]"
      ]
     },
     "execution_count": 10,
     "metadata": {},
     "output_type": "execute_result"
    }
   ],
   "source": [
    "# Menghapus baris yang terduplikasi atau memiliki nilai identik pada dataframe pilpres\n",
    "df_pilpres = df_pilpres.drop_duplicates()\n",
    "df_pilpres"
   ]
  },
  {
   "cell_type": "code",
   "execution_count": 11,
   "metadata": {},
   "outputs": [],
   "source": [
    "# Perintah atau function yang digunakan untuk melakukan preprocessing dataframe pilpres\n",
    "slang_word = {'slang':['blm', 'blum', 'bkn', 'bkan', 'enggk', 'gk', 'jngn', 'jngan', 'lwn', 'lwan', 'tdk', 'tdak', 'tngkat', 'trn', 'trun', 'bhw', 'bhwa', 'mnang', 'klh', 'klah', 'utk', 'untk', 'ykn', 'ykin', 'dmpk', 'dmpak', 'brk', 'bruk', 'crng', 'crang', 'jjr', 'jjur', 'spt', 'sprt', 'sprti', 'seprti', 'yg', 'sngkta', 'sngketa', 'kpd', 'kpda', 'bgs', 'bgus', 'bhng', 'bhong', 'sdngkn', 'sdngkan', 'wlpn', 'wlpun', 'sbntr', 'sbntar', 'kmrn', 'knp', 'msh', 'msih', 'jd', 'jdi', 'krn', 'krena', 'sblm', 'sblum', 'pgn', 'tlpn', 'gapapa', 'gpp', 'tp', 'jg', 'jlk', 'jlek', 'kcw', 'kcwa', 'mrh', 'mrah', 'mls', 'mlas', 'pstf', 'pstif', 'ngtf', 'ngtif', 'klo', 'klw', 'lbh', 'lbih', 'sdih', 'bngung', 'snang', 'bhgia', 'trs', 'trus', 'krng', 'krang', 'tmbh', 'tmbah', 'ktmu', 'thn', 'thun', 'wkt', 'wktu', 'bgm'],\n",
    "              'replace':['belum', 'belum', 'bukan', 'bukan', 'enggak', 'gak', 'jangan', 'jangan', 'lawan', 'lawan', 'tidak', 'tidak', 'tingkat', 'turun', 'turun', 'bahwa', 'bahwa', 'menang', 'kalah', 'kalah', 'untuk', 'untuk', 'yakin', 'yakin', 'dampak', 'dampak', 'buruk', 'buruk', 'curang', 'curang', 'jujur', 'jujur', 'seperti', 'seperti', 'seperti', 'seperti', 'yang', 'sengketa', 'sengketa', 'kepada', 'kepada', 'bagus', 'bagus', 'bohong', 'bohong', 'sedangkan', 'sedangkan', 'walaupun', 'walaupun', 'sebentar', 'sebentar', 'kemarin', 'kenapa', 'masih', 'masih', 'jadi', 'jadi', 'karena', 'karena', 'sebelum', 'sebelum', 'pengen', 'telepon', 'gak apa apa', 'gak apa apa', 'tapi', 'juga', 'jelek', 'jelek', 'kecewa', 'kecewa', 'marah', 'marah', 'malas', 'malas', 'positif', 'positif', 'negatif', 'negatif', 'kalau', 'kalau', 'lebih', 'lebih', 'sedih', 'bingung', 'senang', 'bahagia', 'terus', 'terus', 'kurang', 'kurang', 'tambah', 'tambah', 'ketemu', 'tahun', 'tahun', 'waktu', 'waktu', 'bagaimana']}\n",
    "slang_word = dict(zip(slang_word['slang'], slang_word['replace']))\n",
    "\n",
    "def casefolding(teks):\n",
    "  teks = teks.lower()\n",
    "  teks = re.sub(r'(@[A-Za-z0-9]+)|([^A-Za-z \\t])|(\\w+:\\/\\/\\S+)|(\\d+)', ' ', teks)\n",
    "  teks = teks.translate(str.maketrans('', '', string.punctuation))\n",
    "  teks = re.sub(r'^https?:\\/\\/.*[\\r\\n]*', '', teks, flags=re.MULTILINE)\n",
    "  teks = teks.strip()\n",
    "  return teks\n",
    "\n",
    "def stopword(teks):\n",
    "  id_stopword = stopwords.words('indonesian')\n",
    "  more_stopword = ['pilpres', '2024']\n",
    "  teks = teks.split()\n",
    "  teks = [word for word in teks if word not in id_stopword and word not in more_stopword]\n",
    "  teks = ' '.join(teks)\n",
    "  return teks"
   ]
  },
  {
   "cell_type": "code",
   "execution_count": 12,
   "metadata": {},
   "outputs": [
    {
     "data": {
      "text/html": [
       "<div>\n",
       "<style scoped>\n",
       "    .dataframe tbody tr th:only-of-type {\n",
       "        vertical-align: middle;\n",
       "    }\n",
       "\n",
       "    .dataframe tbody tr th {\n",
       "        vertical-align: top;\n",
       "    }\n",
       "\n",
       "    .dataframe thead th {\n",
       "        text-align: right;\n",
       "    }\n",
       "</style>\n",
       "<table border=\"1\" class=\"dataframe\">\n",
       "  <thead>\n",
       "    <tr style=\"text-align: right;\">\n",
       "      <th></th>\n",
       "      <th>teks</th>\n",
       "      <th>teks_bersih</th>\n",
       "    </tr>\n",
       "  </thead>\n",
       "  <tbody>\n",
       "    <tr>\n",
       "      <th>0</th>\n",
       "      <td>Elite NU meyakini Puan Maharani menjadi kandid...</td>\n",
       "      <td>elite nu puan maharani kandidat kuat calon pre...</td>\n",
       "    </tr>\n",
       "    <tr>\n",
       "      <th>1</th>\n",
       "      <td>Wanti-wanti Fahri Hamzah 8 Bulan Jeda Menuju P...</td>\n",
       "      <td>wanti wanti fahri hamzah jeda pelantikan hasil...</td>\n",
       "    </tr>\n",
       "    <tr>\n",
       "      <th>2</th>\n",
       "      <td>Rempuni Cirebon melakukan deklarasi mendukung ...</td>\n",
       "      <td>rempuni cirebon deklarasi mendukung puan mahar...</td>\n",
       "    </tr>\n",
       "    <tr>\n",
       "      <th>3</th>\n",
       "      <td>Fahri Hamzah Ungkap Kekhawatiran Soal Jeda Has...</td>\n",
       "      <td>fahri hamzah ungakap kekhawatiran jeda hasil p...</td>\n",
       "    </tr>\n",
       "    <tr>\n",
       "      <th>4</th>\n",
       "      <td>Cocok sih sama² ambisi gede 😁😁\\nDan memenuhi s...</td>\n",
       "      <td>cocok sih ambisi gede memenuhi syarat pt progu...</td>\n",
       "    </tr>\n",
       "    <tr>\n",
       "      <th>...</th>\n",
       "      <td>...</td>\n",
       "      <td>...</td>\n",
       "    </tr>\n",
       "    <tr>\n",
       "      <th>1833</th>\n",
       "      <td>Siapa Pendamping Anies Baswedan 2024? - Kompas...</td>\n",
       "      <td>pendamping anies baswedan kompasiana com</td>\n",
       "    </tr>\n",
       "    <tr>\n",
       "      <th>1834</th>\n",
       "      <td>Pengamat Politik: Ada Rivalitas Diam-diam Mega...</td>\n",
       "      <td>pengamat politik rivalitas diam diam megawati ...</td>\n",
       "    </tr>\n",
       "    <tr>\n",
       "      <th>1835</th>\n",
       "      <td>Golkar Yakin Airlangga Menang Pilpres, Asalkan...</td>\n",
       "      <td>golkar airlangga menang petanya</td>\n",
       "    </tr>\n",
       "    <tr>\n",
       "      <th>1836</th>\n",
       "      <td>Gerakan Nelayan Probolinggo Deklarasi Dukung P...</td>\n",
       "      <td>gerakan nelayan probolinggo deklarasi dukung p...</td>\n",
       "    </tr>\n",
       "    <tr>\n",
       "      <th>1837</th>\n",
       "      <td>KIB Tolak Usung Prabowo dan Ganjar, Prioritask...</td>\n",
       "      <td>kib tolak usung prabowo ganjar prioritaskan ka...</td>\n",
       "    </tr>\n",
       "  </tbody>\n",
       "</table>\n",
       "<p>1781 rows × 2 columns</p>\n",
       "</div>"
      ],
      "text/plain": [
       "                                                   teks  \\\n",
       "0     Elite NU meyakini Puan Maharani menjadi kandid...   \n",
       "1     Wanti-wanti Fahri Hamzah 8 Bulan Jeda Menuju P...   \n",
       "2     Rempuni Cirebon melakukan deklarasi mendukung ...   \n",
       "3     Fahri Hamzah Ungkap Kekhawatiran Soal Jeda Has...   \n",
       "4     Cocok sih sama² ambisi gede 😁😁\\nDan memenuhi s...   \n",
       "...                                                 ...   \n",
       "1833  Siapa Pendamping Anies Baswedan 2024? - Kompas...   \n",
       "1834  Pengamat Politik: Ada Rivalitas Diam-diam Mega...   \n",
       "1835  Golkar Yakin Airlangga Menang Pilpres, Asalkan...   \n",
       "1836  Gerakan Nelayan Probolinggo Deklarasi Dukung P...   \n",
       "1837  KIB Tolak Usung Prabowo dan Ganjar, Prioritask...   \n",
       "\n",
       "                                            teks_bersih  \n",
       "0     elite nu puan maharani kandidat kuat calon pre...  \n",
       "1     wanti wanti fahri hamzah jeda pelantikan hasil...  \n",
       "2     rempuni cirebon deklarasi mendukung puan mahar...  \n",
       "3     fahri hamzah ungakap kekhawatiran jeda hasil p...  \n",
       "4     cocok sih ambisi gede memenuhi syarat pt progu...  \n",
       "...                                                 ...  \n",
       "1833           pendamping anies baswedan kompasiana com  \n",
       "1834  pengamat politik rivalitas diam diam megawati ...  \n",
       "1835                    golkar airlangga menang petanya  \n",
       "1836  gerakan nelayan probolinggo deklarasi dukung p...  \n",
       "1837  kib tolak usung prabowo ganjar prioritaskan ka...  \n",
       "\n",
       "[1781 rows x 2 columns]"
      ]
     },
     "execution_count": 12,
     "metadata": {},
     "output_type": "execute_result"
    }
   ],
   "source": [
    "# Melakukan preprocessing dataframe pilpress\n",
    "df_pilpres = df_pilpres.copy()\n",
    "df_pilpres['teks_bersih'] = df_pilpres['teks'].replace(slang_word, regex=True)\n",
    "df_pilpres['teks_bersih'] = df_pilpres['teks_bersih'].apply(casefolding)\n",
    "df_pilpres['teks_bersih'] = df_pilpres['teks_bersih'].apply(stopword)\n",
    "df_pilpres"
   ]
  },
  {
   "cell_type": "markdown",
   "metadata": {},
   "source": [
    "Teks Analisis:"
   ]
  },
  {
   "cell_type": "code",
   "execution_count": 13,
   "metadata": {},
   "outputs": [
    {
     "data": {
      "image/png": "[encoded data removed]",
      "text/plain": [
       "<Figure size 432x288 with 1 Axes>"
      ]
     },
     "metadata": {
      "needs_background": "light"
     },
     "output_type": "display_data"
    }
   ],
   "source": [
    "# Melihat frekuensi karakter pada dataframe pilpres yang sudah dibersihkan\n",
    "bin_range = np.arange(0, 300, 10)\n",
    "df_pilpres['teks_bersih'].str.len().hist(bins=bin_range)\n",
    "plt.title('Frekuensi Karakter')\n",
    "plt.xlabel('Jumlah Karakter')\n",
    "plt.ylabel('Jumlah Teks')\n",
    "plt.show()"
   ]
  },
  {
   "cell_type": "code",
   "execution_count": 14,
   "metadata": {},
   "outputs": [
    {
     "data": {
      "image/png": "[encoded data removed]",
      "text/plain": [
       "<Figure size 432x288 with 1 Axes>"
      ]
     },
     "metadata": {
      "needs_background": "light"
     },
     "output_type": "display_data"
    }
   ],
   "source": [
    "# Melihat frekuensi kata pada dataframe pilpres yang sudah dibersihkan\n",
    "bin_range = np.arange(0, 50)\n",
    "df_pilpres['teks_bersih'].str.split().map(lambda x: len(x)).hist(bins=bin_range)\n",
    "plt.title('Frekuensi Kata')\n",
    "plt.xlabel('Jumlah Kata')\n",
    "plt.ylabel('Jumlah Teks')\n",
    "plt.show()"
   ]
  },
  {
   "cell_type": "code",
   "execution_count": 15,
   "metadata": {},
   "outputs": [
    {
     "name": "stderr",
     "output_type": "stream",
     "text": [
      "c:\\Users\\Rayendra\\AppData\\Local\\Programs\\Python\\Python310\\lib\\site-packages\\numpy\\core\\fromnumeric.py:3474: RuntimeWarning: Mean of empty slice.\n",
      "  return _methods._mean(a, axis=axis, dtype=dtype,\n",
      "c:\\Users\\Rayendra\\AppData\\Local\\Programs\\Python\\Python310\\lib\\site-packages\\numpy\\core\\_methods.py:189: RuntimeWarning: invalid value encountered in double_scalars\n",
      "  ret = ret.dtype.type(ret / rcount)\n"
     ]
    },
    {
     "data": {
      "image/png": "[encoded data removed]",
      "text/plain": [
       "<Figure size 432x288 with 1 Axes>"
      ]
     },
     "metadata": {
      "needs_background": "light"
     },
     "output_type": "display_data"
    }
   ],
   "source": [
    "# Melihat panjang rata-rata kata pada dataframe pilpres yang sudah dibersihkan\n",
    "df_pilpres['teks_bersih'].str.split().apply(lambda x: [len(i) for i in x]).map(lambda x: np.mean(x)).hist()\n",
    "plt.title('Panjang Rata-Rata Kata')\n",
    "plt.xlabel('Panjang Rata-Rata Kata')\n",
    "plt.ylabel('Jumlah Teks')\n",
    "plt.show()"
   ]
  },
  {
   "cell_type": "code",
   "execution_count": 16,
   "metadata": {},
   "outputs": [
    {
     "name": "stdout",
     "output_type": "stream",
     "text": [
      "[('puan', 369), ('politik', 368), ('presiden', 324), ('maju', 282), ('maharani', 270), ('pdip', 230), ('anies', 229), ('partai', 204), ('identitas', 201), ('jokowi', 178), ('erick', 175), ('thohir', 165), ('capres', 162), ('indonesia', 159), ('ganjar', 158), ('ketua', 155), ('calon', 144), ('pemilu', 133), ('koalisi', 128), ('mendukung', 120)]\n"
     ]
    }
   ],
   "source": [
    "# Melihat distribusi kata pada dataframe pilpres yang sudah dibersihkan\n",
    "df_pilpres_token = df_pilpres['teks_bersih'].apply(lambda x: word_tokenize(str(x)))\n",
    "teks = [word for teks_bersih in df_pilpres_token for word in teks_bersih]\n",
    "DistFrek = FreqDist(teks)\n",
    "kata_terkait = DistFrek.most_common(20)\n",
    "print(kata_terkait)"
   ]
  },
  {
   "cell_type": "code",
   "execution_count": 17,
   "metadata": {},
   "outputs": [
    {
     "data": {
      "image/png": "[encoded data removed]",
      "text/plain": [
       "<Figure size 432x288 with 1 Axes>"
      ]
     },
     "metadata": {
      "needs_background": "light"
     },
     "output_type": "display_data"
    }
   ],
   "source": [
    "# Melihat 10 kata yang paling sering terkait dengan topik pilpres 2024\n",
    "DistFrek.plot(10, cumulative=False, title='Kata Terkait Pilpres 2024')\n",
    "plt.show()"
   ]
  },
  {
   "cell_type": "code",
   "execution_count": 18,
   "metadata": {},
   "outputs": [
    {
     "name": "stdout",
     "output_type": "stream",
     "text": [
      "(puan, maharani)        270\n",
      "(politik, identitas)    200\n",
      "(erick, thohir)         165\n",
      "(calon, presiden)       113\n",
      "(presiden, jokowi)       78\n",
      "(ketua, dpr)             77\n",
      "(mendukung, puan)        72\n",
      "(thohir, maju)           71\n",
      "(anies, baswedan)        69\n",
      "(pancasila, satukan)     66\n",
      "dtype: int64\n"
     ]
    }
   ],
   "source": [
    "# Melihat 10 pasangan kata yang paling sering terkait dengan topik pilpres 2024\n",
    "bigrams = pd.Series(nltk.ngrams(teks, 2)).value_counts()[:10]\n",
    "print(bigrams)"
   ]
  },
  {
   "cell_type": "markdown",
   "metadata": {},
   "source": [
    "Sentimen Analisis:"
   ]
  },
  {
   "cell_type": "code",
   "execution_count": 19,
   "metadata": {},
   "outputs": [],
   "source": [
    "# Menentukan sentimen dari teks yang berada pada dataframe pilpres yang sudah dibersihkan\n",
    "teks = df_pilpres['teks_bersih']\n",
    "\n",
    "with open('./kata_positif.txt', 'r') as positif_file:\n",
    "    positive_words = list(set(positif_file.readlines()))\n",
    "with open('./kata_negatif.txt', 'r') as negative_file:\n",
    "    negative_words = list(set(negative_file.readlines()))\n",
    "\n",
    "results = []\n",
    "list_negasi = ['anti', 'belum', 'bukan', 'enggak', 'gak', 'jangan', 'lawan', 'tak', 'tidak']\n",
    "\n",
    "for teks in teks:\n",
    "  teks_bersih= teks.strip().split()\n",
    "  \n",
    "  good_count = 0\n",
    "  bad_count = 0\n",
    "\n",
    "  for good_word in positive_words:\n",
    "    count = teks_bersih.count(good_word.strip().lower())\n",
    "    if count > 0:\n",
    "      if teks_bersih[teks_bersih.index(good_word.strip().lower())-1] in list_negasi:\n",
    "        good_count += count\n",
    "      else:\n",
    "        good_count += 1\n",
    "\n",
    "  for bad_word in negative_words:\n",
    "    count = teks_bersih.count(bad_word.strip().lower())\n",
    "    if count > 0:\n",
    "      bad_count += count\n",
    "      if bad_word.strip().lower() in teks_bersih:\n",
    "        if teks_bersih[teks_bersih.index(bad_word.strip().lower())-1] in list_negasi:\n",
    "          good_count +=1\n",
    "        else:\n",
    "          bad_count += 1\n",
    "  \n",
    "  results.append(good_count - bad_count)"
   ]
  },
  {
   "cell_type": "code",
   "execution_count": 20,
   "metadata": {},
   "outputs": [
    {
     "data": {
      "text/html": [
       "<div>\n",
       "<style scoped>\n",
       "    .dataframe tbody tr th:only-of-type {\n",
       "        vertical-align: middle;\n",
       "    }\n",
       "\n",
       "    .dataframe tbody tr th {\n",
       "        vertical-align: top;\n",
       "    }\n",
       "\n",
       "    .dataframe thead th {\n",
       "        text-align: right;\n",
       "    }\n",
       "</style>\n",
       "<table border=\"1\" class=\"dataframe\">\n",
       "  <thead>\n",
       "    <tr style=\"text-align: right;\">\n",
       "      <th></th>\n",
       "      <th>teks</th>\n",
       "      <th>teks_bersih</th>\n",
       "      <th>sentimen</th>\n",
       "    </tr>\n",
       "  </thead>\n",
       "  <tbody>\n",
       "    <tr>\n",
       "      <th>0</th>\n",
       "      <td>Elite NU meyakini Puan Maharani menjadi kandid...</td>\n",
       "      <td>elite nu puan maharani kandidat kuat calon pre...</td>\n",
       "      <td>positif</td>\n",
       "    </tr>\n",
       "    <tr>\n",
       "      <th>1</th>\n",
       "      <td>Wanti-wanti Fahri Hamzah 8 Bulan Jeda Menuju P...</td>\n",
       "      <td>wanti wanti fahri hamzah jeda pelantikan hasil...</td>\n",
       "      <td>negatif</td>\n",
       "    </tr>\n",
       "    <tr>\n",
       "      <th>2</th>\n",
       "      <td>Rempuni Cirebon melakukan deklarasi mendukung ...</td>\n",
       "      <td>rempuni cirebon deklarasi mendukung puan mahar...</td>\n",
       "      <td>positif</td>\n",
       "    </tr>\n",
       "    <tr>\n",
       "      <th>3</th>\n",
       "      <td>Fahri Hamzah Ungkap Kekhawatiran Soal Jeda Has...</td>\n",
       "      <td>fahri hamzah ungakap kekhawatiran jeda hasil p...</td>\n",
       "      <td>negatif</td>\n",
       "    </tr>\n",
       "    <tr>\n",
       "      <th>4</th>\n",
       "      <td>Cocok sih sama² ambisi gede 😁😁\\nDan memenuhi s...</td>\n",
       "      <td>cocok sih ambisi gede memenuhi syarat pt progu...</td>\n",
       "      <td>positif</td>\n",
       "    </tr>\n",
       "    <tr>\n",
       "      <th>...</th>\n",
       "      <td>...</td>\n",
       "      <td>...</td>\n",
       "      <td>...</td>\n",
       "    </tr>\n",
       "    <tr>\n",
       "      <th>1833</th>\n",
       "      <td>Siapa Pendamping Anies Baswedan 2024? - Kompas...</td>\n",
       "      <td>pendamping anies baswedan kompasiana com</td>\n",
       "      <td>netral</td>\n",
       "    </tr>\n",
       "    <tr>\n",
       "      <th>1834</th>\n",
       "      <td>Pengamat Politik: Ada Rivalitas Diam-diam Mega...</td>\n",
       "      <td>pengamat politik rivalitas diam diam megawati ...</td>\n",
       "      <td>netral</td>\n",
       "    </tr>\n",
       "    <tr>\n",
       "      <th>1835</th>\n",
       "      <td>Golkar Yakin Airlangga Menang Pilpres, Asalkan...</td>\n",
       "      <td>golkar airlangga menang petanya</td>\n",
       "      <td>positif</td>\n",
       "    </tr>\n",
       "    <tr>\n",
       "      <th>1836</th>\n",
       "      <td>Gerakan Nelayan Probolinggo Deklarasi Dukung P...</td>\n",
       "      <td>gerakan nelayan probolinggo deklarasi dukung p...</td>\n",
       "      <td>netral</td>\n",
       "    </tr>\n",
       "    <tr>\n",
       "      <th>1837</th>\n",
       "      <td>KIB Tolak Usung Prabowo dan Ganjar, Prioritask...</td>\n",
       "      <td>kib tolak usung prabowo ganjar prioritaskan ka...</td>\n",
       "      <td>netral</td>\n",
       "    </tr>\n",
       "  </tbody>\n",
       "</table>\n",
       "<p>1781 rows × 3 columns</p>\n",
       "</div>"
      ],
      "text/plain": [
       "                                                   teks  \\\n",
       "0     Elite NU meyakini Puan Maharani menjadi kandid...   \n",
       "1     Wanti-wanti Fahri Hamzah 8 Bulan Jeda Menuju P...   \n",
       "2     Rempuni Cirebon melakukan deklarasi mendukung ...   \n",
       "3     Fahri Hamzah Ungkap Kekhawatiran Soal Jeda Has...   \n",
       "4     Cocok sih sama² ambisi gede 😁😁\\nDan memenuhi s...   \n",
       "...                                                 ...   \n",
       "1833  Siapa Pendamping Anies Baswedan 2024? - Kompas...   \n",
       "1834  Pengamat Politik: Ada Rivalitas Diam-diam Mega...   \n",
       "1835  Golkar Yakin Airlangga Menang Pilpres, Asalkan...   \n",
       "1836  Gerakan Nelayan Probolinggo Deklarasi Dukung P...   \n",
       "1837  KIB Tolak Usung Prabowo dan Ganjar, Prioritask...   \n",
       "\n",
       "                                            teks_bersih sentimen  \n",
       "0     elite nu puan maharani kandidat kuat calon pre...  positif  \n",
       "1     wanti wanti fahri hamzah jeda pelantikan hasil...  negatif  \n",
       "2     rempuni cirebon deklarasi mendukung puan mahar...  positif  \n",
       "3     fahri hamzah ungakap kekhawatiran jeda hasil p...  negatif  \n",
       "4     cocok sih ambisi gede memenuhi syarat pt progu...  positif  \n",
       "...                                                 ...      ...  \n",
       "1833           pendamping anies baswedan kompasiana com   netral  \n",
       "1834  pengamat politik rivalitas diam diam megawati ...   netral  \n",
       "1835                    golkar airlangga menang petanya  positif  \n",
       "1836  gerakan nelayan probolinggo deklarasi dukung p...   netral  \n",
       "1837  kib tolak usung prabowo ganjar prioritaskan ka...   netral  \n",
       "\n",
       "[1781 rows x 3 columns]"
      ]
     },
     "execution_count": 20,
     "metadata": {},
     "output_type": "execute_result"
    }
   ],
   "source": [
    "# Menambahkan kolom sentimen pada dataframe pilpres\n",
    "sentiments = ['positif' if sentimen > 0 else ('netral' if sentimen == 0 else 'negatif') for sentimen in results]\n",
    "df_pilpres = df_pilpres.copy()\n",
    "df_pilpres['sentimen'] = sentiments\n",
    "df_pilpres"
   ]
  },
  {
   "cell_type": "code",
   "execution_count": 21,
   "metadata": {},
   "outputs": [
    {
     "name": "stdout",
     "output_type": "stream",
     "text": [
      "\n",
      "Mean: -0.07860752386299831\n",
      "Median: 0.0\n",
      "quartil awal: 0.0\n",
      "quartil akhir: 1.0\n",
      "Standar deviasi: 1.6072887998628669     \n",
      "\n"
     ]
    }
   ],
   "source": [
    "# Melihat hasil statistik deskriptif dari sentimen yang diperoleh\n",
    "print (f'''\n",
    "Mean: {np.mean(results)}\n",
    "Median: {np.median(results)}\n",
    "quartil awal: {np.quantile(results, 0.25)}\n",
    "quartil akhir: {np.quantile(results, 0.75)}\n",
    "Standar deviasi: {np.std(results)}     \n",
    "''')"
   ]
  },
  {
   "cell_type": "code",
   "execution_count": 22,
   "metadata": {},
   "outputs": [
    {
     "data": {
      "image/png": "[encoded data removed]",
      "text/plain": [
       "<Figure size 432x288 with 1 Axes>"
      ]
     },
     "metadata": {
      "needs_background": "light"
     },
     "output_type": "display_data"
    }
   ],
   "source": [
    "# Melihat distribusi sentimen berdasarkan nilainya\n",
    "labels, counts = np.unique(results, return_counts=True)\n",
    "fig, ax = plt.subplots()\n",
    "ax.set_xticks(ax.get_xticks())\n",
    "sns.barplot(x=list(labels), y=list(counts))\n",
    "sns.lineplot(x=ax.get_xticks(), y=list(counts))\n",
    "plt.title(f'Distribusi Sentimen')\n",
    "plt.xlabel('Nilai Sentimen')\n",
    "plt.ylabel('Jumlah')\n",
    "plt.show()"
   ]
  },
  {
   "cell_type": "code",
   "execution_count": 23,
   "metadata": {},
   "outputs": [
    {
     "data": {
      "image/png": "[encoded data removed]",
      "text/plain": [
       "<Figure size 432x288 with 1 Axes>"
      ]
     },
     "metadata": {
      "needs_background": "light"
     },
     "output_type": "display_data"
    }
   ],
   "source": [
    "# Melihat perbandingan jumlah sentimen\n",
    "ax = sns.barplot(x=df_pilpres['sentimen'].value_counts().index, y=df_pilpres['sentimen'].value_counts(), data=df_pilpres)\n",
    "ax.set(xlabel='Sentimen', ylabel='Jumlah Teks')\n",
    "plt.title('Perbandingan Jumlah Sentimen')\n",
    "plt.show()"
   ]
  },
  {
   "cell_type": "markdown",
   "metadata": {},
   "source": [
    "Data Processing:"
   ]
  },
  {
   "cell_type": "code",
   "execution_count": 24,
   "metadata": {},
   "outputs": [
    {
     "data": {
      "text/html": [
       "<div>\n",
       "<style scoped>\n",
       "    .dataframe tbody tr th:only-of-type {\n",
       "        vertical-align: middle;\n",
       "    }\n",
       "\n",
       "    .dataframe tbody tr th {\n",
       "        vertical-align: top;\n",
       "    }\n",
       "\n",
       "    .dataframe thead th {\n",
       "        text-align: right;\n",
       "    }\n",
       "</style>\n",
       "<table border=\"1\" class=\"dataframe\">\n",
       "  <thead>\n",
       "    <tr style=\"text-align: right;\">\n",
       "      <th></th>\n",
       "      <th>teks_bersih</th>\n",
       "      <th>sentimen</th>\n",
       "    </tr>\n",
       "  </thead>\n",
       "  <tbody>\n",
       "    <tr>\n",
       "      <th>0</th>\n",
       "      <td>elite nu puan maharani kandidat kuat calon pre...</td>\n",
       "      <td>1</td>\n",
       "    </tr>\n",
       "    <tr>\n",
       "      <th>1</th>\n",
       "      <td>wanti wanti fahri hamzah jeda pelantikan hasil...</td>\n",
       "      <td>-1</td>\n",
       "    </tr>\n",
       "    <tr>\n",
       "      <th>2</th>\n",
       "      <td>rempuni cirebon deklarasi mendukung puan mahar...</td>\n",
       "      <td>1</td>\n",
       "    </tr>\n",
       "    <tr>\n",
       "      <th>3</th>\n",
       "      <td>fahri hamzah ungakap kekhawatiran jeda hasil p...</td>\n",
       "      <td>-1</td>\n",
       "    </tr>\n",
       "    <tr>\n",
       "      <th>4</th>\n",
       "      <td>cocok sih ambisi gede memenuhi syarat pt progu...</td>\n",
       "      <td>1</td>\n",
       "    </tr>\n",
       "    <tr>\n",
       "      <th>...</th>\n",
       "      <td>...</td>\n",
       "      <td>...</td>\n",
       "    </tr>\n",
       "    <tr>\n",
       "      <th>1833</th>\n",
       "      <td>pendamping anies baswedan kompasiana com</td>\n",
       "      <td>0</td>\n",
       "    </tr>\n",
       "    <tr>\n",
       "      <th>1834</th>\n",
       "      <td>pengamat politik rivalitas diam diam megawati ...</td>\n",
       "      <td>0</td>\n",
       "    </tr>\n",
       "    <tr>\n",
       "      <th>1835</th>\n",
       "      <td>golkar airlangga menang petanya</td>\n",
       "      <td>1</td>\n",
       "    </tr>\n",
       "    <tr>\n",
       "      <th>1836</th>\n",
       "      <td>gerakan nelayan probolinggo deklarasi dukung p...</td>\n",
       "      <td>0</td>\n",
       "    </tr>\n",
       "    <tr>\n",
       "      <th>1837</th>\n",
       "      <td>kib tolak usung prabowo ganjar prioritaskan ka...</td>\n",
       "      <td>0</td>\n",
       "    </tr>\n",
       "  </tbody>\n",
       "</table>\n",
       "<p>1781 rows × 2 columns</p>\n",
       "</div>"
      ],
      "text/plain": [
       "                                            teks_bersih  sentimen\n",
       "0     elite nu puan maharani kandidat kuat calon pre...         1\n",
       "1     wanti wanti fahri hamzah jeda pelantikan hasil...        -1\n",
       "2     rempuni cirebon deklarasi mendukung puan mahar...         1\n",
       "3     fahri hamzah ungakap kekhawatiran jeda hasil p...        -1\n",
       "4     cocok sih ambisi gede memenuhi syarat pt progu...         1\n",
       "...                                                 ...       ...\n",
       "1833           pendamping anies baswedan kompasiana com         0\n",
       "1834  pengamat politik rivalitas diam diam megawati ...         0\n",
       "1835                    golkar airlangga menang petanya         1\n",
       "1836  gerakan nelayan probolinggo deklarasi dukung p...         0\n",
       "1837  kib tolak usung prabowo ganjar prioritaskan ka...         0\n",
       "\n",
       "[1781 rows x 2 columns]"
      ]
     },
     "execution_count": 24,
     "metadata": {},
     "output_type": "execute_result"
    }
   ],
   "source": [
    "# Menghapus kolom yang tidak dibutuhkan dan mengganti nilai sentimen dari kategorikal menjadi numerikal\n",
    "df_pilpres = df_pilpres.copy()\n",
    "df_pilpres.drop(columns=['teks'], inplace=True)\n",
    "df_pilpres.replace({'sentimen':{'negatif':-1, 'netral':0, 'positif':1}}, inplace=True)\n",
    "df_pilpres"
   ]
  },
  {
   "cell_type": "code",
   "execution_count": 25,
   "metadata": {},
   "outputs": [
    {
     "name": "stdout",
     "output_type": "stream",
     "text": [
      "  (0, 1281)\t0.26597768873405936\n",
      "  (0, 402)\t0.37551996178442915\n",
      "  (0, 1566)\t0.2348053159189625\n",
      "  (0, 268)\t0.30367418983317984\n",
      "  (0, 835)\t0.34573364054389905\n",
      "  (0, 710)\t0.34674569389510346\n",
      "  (0, 892)\t0.24689500783364723\n",
      "  (0, 1596)\t0.23788483887308387\n",
      "  (0, 1145)\t0.3575851841606719\n",
      "  (0, 452)\t0.39460264268484124\n",
      "  (1, 763)\t0.21963872442256227\n",
      "  (1, 424)\t0.3058883422452218\n",
      "  (1, 2431)\t0.31811335646200223\n",
      "  (1, 557)\t0.2120092323280879\n",
      "  (1, 1304)\t0.25067803892269186\n",
      "  (1, 661)\t0.25244711748320653\n",
      "  (1, 544)\t0.26704549503885444\n",
      "  (1, 467)\t0.2581765906982716\n",
      "  (1, 2420)\t0.6689616251563295\n",
      "  (2, 981)\t0.3456213229698955\n",
      "  (2, 324)\t0.39734164344118184\n",
      "  (2, 295)\t0.4482994858894391\n",
      "  (2, 1684)\t0.4530934439510133\n",
      "  (2, 1566)\t0.25661764475837706\n",
      "  (2, 268)\t0.3318841188237576\n",
      "  :\t:\n",
      "  (1777, 1370)\t0.17543625629865253\n",
      "  (1778, 1468)\t0.6451958512344491\n",
      "  (1778, 518)\t0.4680011926940312\n",
      "  (1778, 26)\t0.46326855134123535\n",
      "  (1778, 966)\t0.38740088606637463\n",
      "  (1779, 1579)\t0.4815805484502738\n",
      "  (1779, 300)\t0.3886259281311771\n",
      "  (1779, 1104)\t0.456522093840413\n",
      "  (1779, 507)\t0.4387428373508988\n",
      "  (1779, 429)\t0.2385868304181253\n",
      "  (1779, 324)\t0.2627430536267189\n",
      "  (1779, 1566)\t0.16968899361864484\n",
      "  (1779, 892)\t0.17842596640025912\n",
      "  (1779, 1596)\t0.17191450179704876\n",
      "  (1780, 1574)\t0.43352268551982115\n",
      "  (1780, 300)\t0.34984418820117136\n",
      "  (1780, 687)\t0.3338391584202068\n",
      "  (1780, 1045)\t0.363825924618536\n",
      "  (1780, 2255)\t0.34398251536049085\n",
      "  (1780, 2377)\t0.26548305120437443\n",
      "  (1780, 793)\t0.29764408626130584\n",
      "  (1780, 803)\t0.20714467792939817\n",
      "  (1780, 492)\t0.2017126167661145\n",
      "  (1780, 1252)\t0.18348825540274397\n",
      "  (1780, 1551)\t0.2262458338569099\n"
     ]
    }
   ],
   "source": [
    "# Melakukan modelling dengan naive bayes \n",
    "vectorizer = TfidfVectorizer (max_features=2500)\n",
    "model_g = GaussianNB()\n",
    "v_data = vectorizer.fit_transform(df_pilpres['teks_bersih']).toarray()\n",
    "print(vectorizer.fit_transform(df_pilpres['teks_bersih']))"
   ]
  },
  {
   "cell_type": "code",
   "execution_count": 26,
   "metadata": {},
   "outputs": [
    {
     "name": "stdout",
     "output_type": "stream",
     "text": [
      "[[78 11  9]\n",
      " [24 80 39]\n",
      " [ 9 17 90]] \n",
      "\n",
      "              precision    recall  f1-score   support\n",
      "\n",
      "          -1       0.70      0.80      0.75        98\n",
      "           0       0.74      0.56      0.64       143\n",
      "           1       0.65      0.78      0.71       116\n",
      "\n",
      "    accuracy                           0.69       357\n",
      "   macro avg       0.70      0.71      0.70       357\n",
      "weighted avg       0.70      0.69      0.69       357\n",
      "\n",
      "Nilai akurasinya adalah 0.6946778711484594\n"
     ]
    }
   ],
   "source": [
    "# Menghitung matriks evaluation dengan confusion matrix\n",
    "x_train, x_test, y_train, y_test = train_test_split(v_data, df_pilpres['sentimen'], test_size=0.2, random_state=62)\n",
    "model_g.fit(x_train, y_train)\n",
    "y_pred = model_g.predict(x_test)\n",
    "print(confusion_matrix(y_test, y_pred), '\\n')\n",
    "print(classification_report(y_test, y_pred))\n",
    "print('Nilai akurasinya adalah',accuracy_score(y_test, y_pred))"
   ]
  },
  {
   "cell_type": "markdown",
   "metadata": {},
   "source": [
    "Conclusion:\n",
    "\n",
    "Berdasarkan teks analisis mayoritas masyarakat dinilai cukup antusias memberikan opini terkait topik pilpres 2024 ini dengan kata kunci paling banyak adalah puan, politik, dan presiden yang menggambarkan bahwa saat ini puan maharani sebagai calon presiden dari partai politik tertentu cukup banyak diperbincangkan. Topik saat ini yang sering dibahas terkait pilpres 2024 juga diantaranya adalah tentang puan maharani, politik identitas, serta erick thohir. Sementara itu jika dilihat dari sentimen analisis, topik pilpres 2024 ini masih dinilai netral atau biasa saja oleh masyarakat, namun perbedaanya dengan sentimen positif maupun negatif yang tidak terlalu jauh menunjukkan bahwa topik pilpres 2024 masih cukup cair dan sentimen masyarakat terhadap topik ini akan cepat berubah. Selain dari hal-hal tersebut, hasil dari permodelan machine learning pada teks yang ada dengan algoritma naïve bayes menghasilkan akurasi sebesar 69%, artinya  7 dari 10 teks yang diproses dengan model ini menunjukkan sentimen yang tepat."
   ]
  }
 ],
 "metadata": {
  "kernelspec": {
   "display_name": "Python 3.10.4 64-bit",
   "language": "python",
   "name": "python3"
  },
  "language_info": {
   "codemirror_mode": {
    "name": "ipython",
    "version": 3
   },
   "file_extension": ".py",
   "mimetype": "text/x-python",
   "name": "python",
   "nbconvert_exporter": "python",
   "pygments_lexer": "ipython3",
   "version": "3.10.4"
  },
  "orig_nbformat": 4,
  "vscode": {
   "interpreter": {
    "hash": "faa18e092d89b8dd7fafa2b8301e6790655f61d75bb819cf5fa43209baaeb04e"
   }
  }
 },
 "nbformat": 4,
 "nbformat_minor": 2
}
